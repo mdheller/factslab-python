{
 "cells": [
  {
   "cell_type": "code",
   "execution_count": null,
   "metadata": {},
   "outputs": [],
   "source": [
    "%run -i  'run_elmo_head.py'"
   ]
  },
  {
   "cell_type": "code",
   "execution_count": null,
   "metadata": {},
   "outputs": [],
   "source": [
    "import torch\n",
    "from torchviz import make_dot"
   ]
  },
  {
   "cell_type": "code",
   "execution_count": null,
   "metadata": {},
   "outputs": [],
   "source": [
    "model=torch.nn.Sequential()\n",
    "model.add_module('W0', torch.nn.Linear(8,16))\n",
    "model.add_module('tanh', torch.nn.Tanh())\n",
    "model.add_module('W1', torch.nn.Linear(16,1))\n",
    "\n",
    "x=torch.randn(1,8)\n",
    "y=model(x)\n",
    "print(x)\n",
    "print(y)\n",
    "make_dot(y.mean(), params=dict(model.named_parameters()))"
   ]
  },
  {
   "cell_type": "code",
   "execution_count": null,
   "metadata": {},
   "outputs": [],
   "source": [
    "import argparse\n",
    "from factslab.utility import read_data, interleave_lists\n",
    "from factslab.pytorch.mlpregression import MLPTrainer, MLPRegression\n",
    "from torch.cuda import is_available\n",
    "from torch import device\n",
    "from os.path import expanduser\n",
    "import pickle\n",
    "from torch.nn import Module, Linear, ModuleDict, ModuleList\n",
    "from torch.nn import MSELoss, L1Loss, SmoothL1Loss, CrossEntropyLoss, NLLLoss\n",
    "import numpy as np\n",
    "from sklearn.metrics import accuracy_score as acc, f1_score as f1, precision_score as prec, recall_score as rec, r2_score as r2, mean_squared_error as mse\n",
    "import torch\n",
    "import torch.nn.functional as F\n",
    "from scipy.stats import mode\n",
    "from collections import defaultdict\n",
    "from functools import partial\n",
    "from allennlp.commands.elmo import ElmoEmbedder\n",
    "from os.path import expanduser\n",
    "from tqdm import tqdm\n",
    "from graphviz import Digraph\n",
    "from torch.autograd import Variable\n",
    "from torchviz import make_dot"
   ]
  },
  {
   "cell_type": "code",
   "execution_count": null,
   "metadata": {},
   "outputs": [],
   "source": [
    "train_in = open(\"train_stuff.pkl\", \"rb\")\n",
    "dev_in = open(\"dev_stuff.pkl\", \"rb\")\n",
    "train_data = pickle.load(train_in)\n",
    "dev_data = pickle.load(dev_in)\n",
    "train_in.close()\n",
    "dev_in.close()"
   ]
  },
  {
   "cell_type": "code",
   "execution_count": null,
   "metadata": {},
   "outputs": [],
   "source": [
    "# ELMO parameters\n",
    "options_file = '/srv/models/pytorch/elmo/' + \"options/elmo_2x4096_512_2048cnn_2xhighway_5.5B_options.json\"\n",
    "weight_file = '/srv/models/pytorch/elmo/' + \"weights/elmo_2x4096_512_2048cnn_2xhighway_5.5B_weights.hdf5\"\n",
    "elmo_params = (options_file, weight_file)\n",
    "\n",
    "# pyTorch figures out device to do computation on\n",
    "device_to_use = device(\"cuda:0\" if is_available() else \"cpu\")\n",
    "model_type = {'arg': {'repr': 'param', 'context': 'david'},\n",
    "                  'pred': {'repr': 'param', 'context': 'david'}}\n",
    "attributes = {'arg': ['part', 'kind', 'abs'], 'pred': ['part', 'dyn', 'hyp']}"
   ]
  },
  {
   "cell_type": "code",
   "execution_count": null,
   "metadata": {},
   "outputs": [],
   "source": [
    "x, y, tokens, spans, context_roots, context_spans, loss_wts = [item[0] for item in train_data]\n",
    "x1, y1, tokens1, spans1, context_roots1, context_spans1, loss_wts1 = [item[1] for item in train_data]"
   ]
  },
  {
   "cell_type": "code",
   "execution_count": null,
   "metadata": {},
   "outputs": [],
   "source": [
    "model = MLPRegression(output_size=3, device=device_to_use, attention_type=model_type, embed_params=elmo_params,\n",
    "                     all_attrs=attributes)\n",
    "model.to(device_to_use)"
   ]
  },
  {
   "cell_type": "code",
   "execution_count": null,
   "metadata": {},
   "outputs": [],
   "source": [
    "prot=\"arg\"\n",
    "for attr in attributes[prot]:\n",
    "    y[attr] = torch.tensor(y[attr], dtype=torch.long, device=device_to_use)\n",
    "\n",
    "y_ = model(prot=prot, inputs=x, tokens=tokens, spans=spans, context_roots=context_roots, context_spans=context_spans)"
   ]
  },
  {
   "cell_type": "code",
   "execution_count": null,
   "metadata": {},
   "outputs": [],
   "source": [
    "make_dot(y_['part'].mean(), params=dict(model.named_parameters()))"
   ]
  },
  {
   "cell_type": "code",
   "execution_count": null,
   "metadata": {},
   "outputs": [],
   "source": [
    "prot=\"pred\"\n",
    "for attr in attributes[prot]:\n",
    "    y1[attr] = torch.tensor(y1[attr], dtype=torch.long, device=device_to_use)\n",
    "\n",
    "y1_ = model(prot=prot, inputs=x1, tokens=tokens1, spans=spans1, context_roots=context_roots1, context_spans=context_spans1)"
   ]
  }
 ],
 "metadata": {
  "kernelspec": {
   "display_name": "Python [default]",
   "language": "python",
   "name": "python3"
  },
  "language_info": {
   "codemirror_mode": {
    "name": "ipython",
    "version": 3
   },
   "file_extension": ".py",
   "mimetype": "text/x-python",
   "name": "python",
   "nbconvert_exporter": "python",
   "pygments_lexer": "ipython3",
   "version": "3.6.6"
  }
 },
 "nbformat": 4,
 "nbformat_minor": 2
}
